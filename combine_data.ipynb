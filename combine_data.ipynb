{
 "cells": [
  {
   "cell_type": "code",
   "execution_count": 2,
   "id": "67ee30a3",
   "metadata": {},
   "outputs": [],
   "source": [
    "import pandas as pd\n",
    "import numpy as np"
   ]
  },
  {
   "cell_type": "code",
   "execution_count": 3,
   "id": "80e69677",
   "metadata": {},
   "outputs": [],
   "source": [
    "#Fri Afternoon DDoS\n",
    "data1 = pd.read_csv(\"F:/Internship/Dataset/Cleaner Data/Fri_Afternoon_DDoS.csv\")\n",
    "df1 = pd.DataFrame(data1)\n",
    "\n",
    "#Fri Afternoon Portscan\n",
    "data2 = pd.read_csv(\"F:/Internship/Dataset/Cleaner Data/Fri_Afternoon_Portscan.csv\")\n",
    "df2 = pd.DataFrame(data2)\n",
    "\n",
    "#Fri Morning Pcap\n",
    "data3 = pd.read_csv(\"F:/Internship/Dataset/Cleaner Data/Fri_Morning_pcap.csv\")\n",
    "df3 = pd.DataFrame(data3)\n",
    "\n",
    "#Mon Working Pcap\n",
    "data4 = pd.read_csv(\"F:/Internship/Dataset/Cleaner Data/Mon_Working_Pcap.csv\")\n",
    "df4 = pd.DataFrame(data4)\n",
    "\n",
    "#Thurs Morning WebAttack\n",
    "data5 = pd.read_csv(\"F:/Internship/Dataset/Cleaner Data/Thurs_Morning_Webattack.csv\")\n",
    "df5 = pd.DataFrame(data5)\n",
    "\n",
    "#Tues Working Pcap\n",
    "data6 = pd.read_csv(\"F:/Internship/Dataset/Cleaner Data/Tues_Working_pcap.csv\")\n",
    "df6 = pd.DataFrame(data6)\n",
    "\n",
    "#Web Working Pcap\n",
    "data7 = pd.read_csv(\"F:\\Internship\\Dataset\\Cleaner Data\\Wed_Working_pcap.csv\")\n",
    "df7 = pd.DataFrame(data7)"
   ]
  },
  {
   "cell_type": "code",
   "execution_count": 9,
   "id": "eb08749e",
   "metadata": {},
   "outputs": [
    {
     "name": "stdout",
     "output_type": "stream",
     "text": [
      "count    225711.000000\n",
      "mean          0.567208\n",
      "std           0.495464\n",
      "min           0.000000\n",
      "25%           0.000000\n",
      "50%           1.000000\n",
      "75%           1.000000\n",
      "max           1.000000\n",
      "Name:  Label, dtype: float64\n"
     ]
    },
    {
     "data": {
      "text/plain": [
       "1    128025\n",
       "0     97686\n",
       "Name:  Label, dtype: int64"
      ]
     },
     "execution_count": 9,
     "metadata": {},
     "output_type": "execute_result"
    }
   ],
   "source": [
    "print(df1[' Label'].describe())\n",
    "df1[' Label'].value_counts()"
   ]
  },
  {
   "cell_type": "code",
   "execution_count": 10,
   "id": "b8e5c3fc",
   "metadata": {},
   "outputs": [
    {
     "name": "stdout",
     "output_type": "stream",
     "text": [
      "count    286096.000000\n",
      "mean          0.555072\n",
      "std           0.496959\n",
      "min           0.000000\n",
      "25%           0.000000\n",
      "50%           1.000000\n",
      "75%           1.000000\n",
      "max           1.000000\n",
      "Name:  Label, dtype: float64\n"
     ]
    },
    {
     "data": {
      "text/plain": [
       "1    158804\n",
       "0    127292\n",
       "Name:  Label, dtype: int64"
      ]
     },
     "execution_count": 10,
     "metadata": {},
     "output_type": "execute_result"
    }
   ],
   "source": [
    "print(df2[' Label'].describe())\n",
    "df2[' Label'].value_counts()"
   ]
  },
  {
   "cell_type": "code",
   "execution_count": 19,
   "id": "bbf1a548",
   "metadata": {},
   "outputs": [
    {
     "name": "stdout",
     "output_type": "stream",
     "text": [
      "count    190911.000000\n",
      "mean          0.010246\n",
      "std           0.100701\n",
      "min           0.000000\n",
      "25%           0.000000\n",
      "50%           0.000000\n",
      "75%           0.000000\n",
      "max           1.000000\n",
      "Name:  Label, dtype: float64\n"
     ]
    },
    {
     "data": {
      "text/plain": [
       "0    188955\n",
       "1      1956\n",
       "Name:  Label, dtype: int64"
      ]
     },
     "execution_count": 19,
     "metadata": {},
     "output_type": "execute_result"
    }
   ],
   "source": [
    "print(df3[' Label'].describe())\n",
    "df3[' Label'].value_counts()"
   ]
  },
  {
   "cell_type": "code",
   "execution_count": 20,
   "id": "9e71e52f",
   "metadata": {},
   "outputs": [
    {
     "name": "stdout",
     "output_type": "stream",
     "text": [
      "count    529481.0\n",
      "mean          0.0\n",
      "std           0.0\n",
      "min           0.0\n",
      "25%           0.0\n",
      "50%           0.0\n",
      "75%           0.0\n",
      "max           0.0\n",
      "Name:  Label, dtype: float64\n"
     ]
    },
    {
     "data": {
      "text/plain": [
       "0    529481\n",
       "Name:  Label, dtype: int64"
      ]
     },
     "execution_count": 20,
     "metadata": {},
     "output_type": "execute_result"
    }
   ],
   "source": [
    "print(df4[' Label'].describe())\n",
    "df4[' Label'].value_counts()"
   ]
  },
  {
   "cell_type": "code",
   "execution_count": 21,
   "id": "0956761b",
   "metadata": {},
   "outputs": [
    {
     "name": "stdout",
     "output_type": "stream",
     "text": [
      "count    170231.000000\n",
      "mean          0.012806\n",
      "std           0.112438\n",
      "min           0.000000\n",
      "25%           0.000000\n",
      "50%           0.000000\n",
      "75%           0.000000\n",
      "max           1.000000\n",
      "Name:  Label, dtype: float64\n"
     ]
    },
    {
     "data": {
      "text/plain": [
       "0    168051\n",
       "1      2180\n",
       "Name:  Label, dtype: int64"
      ]
     },
     "execution_count": 21,
     "metadata": {},
     "output_type": "execute_result"
    }
   ],
   "source": [
    "print(df5[' Label'].describe())\n",
    "df5[' Label'].value_counts()"
   ]
  },
  {
   "cell_type": "code",
   "execution_count": 22,
   "id": "8e824490",
   "metadata": {},
   "outputs": [
    {
     "name": "stdout",
     "output_type": "stream",
     "text": [
      "count    445645.000000\n",
      "mean          0.031038\n",
      "std           0.173421\n",
      "min           0.000000\n",
      "25%           0.000000\n",
      "50%           0.000000\n",
      "75%           0.000000\n",
      "max           1.000000\n",
      "Name:  Label, dtype: float64\n"
     ]
    },
    {
     "data": {
      "text/plain": [
       "0    431813\n",
       "1     13832\n",
       "Name:  Label, dtype: int64"
      ]
     },
     "execution_count": 22,
     "metadata": {},
     "output_type": "execute_result"
    }
   ],
   "source": [
    "print(df6[' Label'].describe())\n",
    "df6[' Label'].value_counts()"
   ]
  },
  {
   "cell_type": "code",
   "execution_count": 23,
   "id": "45f07074",
   "metadata": {},
   "outputs": [
    {
     "name": "stdout",
     "output_type": "stream",
     "text": [
      "count    691406.000000\n",
      "mean          0.364074\n",
      "std           0.481170\n",
      "min           0.000000\n",
      "25%           0.000000\n",
      "50%           0.000000\n",
      "75%           1.000000\n",
      "max           1.000000\n",
      "Name:  Label, dtype: float64\n"
     ]
    },
    {
     "data": {
      "text/plain": [
       "0    439683\n",
       "1    251723\n",
       "Name:  Label, dtype: int64"
      ]
     },
     "execution_count": 23,
     "metadata": {},
     "output_type": "execute_result"
    }
   ],
   "source": [
    "print(df7[' Label'].describe())\n",
    "df7[' Label'].value_counts()"
   ]
  },
  {
   "cell_type": "code",
   "execution_count": 24,
   "id": "64e329b8",
   "metadata": {},
   "outputs": [],
   "source": [
    "#Lets keep Friday Afternoon Portscan Dataset for testing and combine the rest"
   ]
  },
  {
   "cell_type": "code",
   "execution_count": 4,
   "id": "337ce08a",
   "metadata": {},
   "outputs": [
    {
     "data": {
      "text/html": [
       "<div>\n",
       "<style scoped>\n",
       "    .dataframe tbody tr th:only-of-type {\n",
       "        vertical-align: middle;\n",
       "    }\n",
       "\n",
       "    .dataframe tbody tr th {\n",
       "        vertical-align: top;\n",
       "    }\n",
       "\n",
       "    .dataframe thead th {\n",
       "        text-align: right;\n",
       "    }\n",
       "</style>\n",
       "<table border=\"1\" class=\"dataframe\">\n",
       "  <thead>\n",
       "    <tr style=\"text-align: right;\">\n",
       "      <th></th>\n",
       "      <th>Flow Duration</th>\n",
       "      <th>Total Fwd Packets</th>\n",
       "      <th>Total Backward Packets</th>\n",
       "      <th>Total Length of Fwd Packets</th>\n",
       "      <th>Total Length of Bwd Packets</th>\n",
       "      <th>Fwd Packet Length Max</th>\n",
       "      <th>Fwd Packet Length Min</th>\n",
       "      <th>Fwd Packet Length Mean</th>\n",
       "      <th>Fwd Packet Length Std</th>\n",
       "      <th>Bwd Packet Length Max</th>\n",
       "      <th>...</th>\n",
       "      <th>min_seg_size_forward</th>\n",
       "      <th>Active Mean</th>\n",
       "      <th>Active Std</th>\n",
       "      <th>Active Max</th>\n",
       "      <th>Active Min</th>\n",
       "      <th>Idle Mean</th>\n",
       "      <th>Idle Std</th>\n",
       "      <th>Idle Max</th>\n",
       "      <th>Idle Min</th>\n",
       "      <th>Label</th>\n",
       "    </tr>\n",
       "  </thead>\n",
       "  <tbody>\n",
       "    <tr>\n",
       "      <th>0</th>\n",
       "      <td>3</td>\n",
       "      <td>2</td>\n",
       "      <td>0</td>\n",
       "      <td>12</td>\n",
       "      <td>0</td>\n",
       "      <td>6</td>\n",
       "      <td>6</td>\n",
       "      <td>6.0</td>\n",
       "      <td>0.00000</td>\n",
       "      <td>0</td>\n",
       "      <td>...</td>\n",
       "      <td>20</td>\n",
       "      <td>0.0</td>\n",
       "      <td>0.0</td>\n",
       "      <td>0</td>\n",
       "      <td>0</td>\n",
       "      <td>0.0</td>\n",
       "      <td>0.0</td>\n",
       "      <td>0</td>\n",
       "      <td>0</td>\n",
       "      <td>0</td>\n",
       "    </tr>\n",
       "    <tr>\n",
       "      <th>1</th>\n",
       "      <td>109</td>\n",
       "      <td>1</td>\n",
       "      <td>1</td>\n",
       "      <td>6</td>\n",
       "      <td>6</td>\n",
       "      <td>6</td>\n",
       "      <td>6</td>\n",
       "      <td>6.0</td>\n",
       "      <td>0.00000</td>\n",
       "      <td>6</td>\n",
       "      <td>...</td>\n",
       "      <td>20</td>\n",
       "      <td>0.0</td>\n",
       "      <td>0.0</td>\n",
       "      <td>0</td>\n",
       "      <td>0</td>\n",
       "      <td>0.0</td>\n",
       "      <td>0.0</td>\n",
       "      <td>0</td>\n",
       "      <td>0</td>\n",
       "      <td>0</td>\n",
       "    </tr>\n",
       "    <tr>\n",
       "      <th>2</th>\n",
       "      <td>52</td>\n",
       "      <td>1</td>\n",
       "      <td>1</td>\n",
       "      <td>6</td>\n",
       "      <td>6</td>\n",
       "      <td>6</td>\n",
       "      <td>6</td>\n",
       "      <td>6.0</td>\n",
       "      <td>0.00000</td>\n",
       "      <td>6</td>\n",
       "      <td>...</td>\n",
       "      <td>20</td>\n",
       "      <td>0.0</td>\n",
       "      <td>0.0</td>\n",
       "      <td>0</td>\n",
       "      <td>0</td>\n",
       "      <td>0.0</td>\n",
       "      <td>0.0</td>\n",
       "      <td>0</td>\n",
       "      <td>0</td>\n",
       "      <td>0</td>\n",
       "    </tr>\n",
       "    <tr>\n",
       "      <th>3</th>\n",
       "      <td>34</td>\n",
       "      <td>1</td>\n",
       "      <td>1</td>\n",
       "      <td>6</td>\n",
       "      <td>6</td>\n",
       "      <td>6</td>\n",
       "      <td>6</td>\n",
       "      <td>6.0</td>\n",
       "      <td>0.00000</td>\n",
       "      <td>6</td>\n",
       "      <td>...</td>\n",
       "      <td>20</td>\n",
       "      <td>0.0</td>\n",
       "      <td>0.0</td>\n",
       "      <td>0</td>\n",
       "      <td>0</td>\n",
       "      <td>0.0</td>\n",
       "      <td>0.0</td>\n",
       "      <td>0</td>\n",
       "      <td>0</td>\n",
       "      <td>0</td>\n",
       "    </tr>\n",
       "    <tr>\n",
       "      <th>4</th>\n",
       "      <td>3</td>\n",
       "      <td>2</td>\n",
       "      <td>0</td>\n",
       "      <td>12</td>\n",
       "      <td>0</td>\n",
       "      <td>6</td>\n",
       "      <td>6</td>\n",
       "      <td>6.0</td>\n",
       "      <td>0.00000</td>\n",
       "      <td>0</td>\n",
       "      <td>...</td>\n",
       "      <td>20</td>\n",
       "      <td>0.0</td>\n",
       "      <td>0.0</td>\n",
       "      <td>0</td>\n",
       "      <td>0</td>\n",
       "      <td>0.0</td>\n",
       "      <td>0.0</td>\n",
       "      <td>0</td>\n",
       "      <td>0</td>\n",
       "      <td>0</td>\n",
       "    </tr>\n",
       "    <tr>\n",
       "      <th>...</th>\n",
       "      <td>...</td>\n",
       "      <td>...</td>\n",
       "      <td>...</td>\n",
       "      <td>...</td>\n",
       "      <td>...</td>\n",
       "      <td>...</td>\n",
       "      <td>...</td>\n",
       "      <td>...</td>\n",
       "      <td>...</td>\n",
       "      <td>...</td>\n",
       "      <td>...</td>\n",
       "      <td>...</td>\n",
       "      <td>...</td>\n",
       "      <td>...</td>\n",
       "      <td>...</td>\n",
       "      <td>...</td>\n",
       "      <td>...</td>\n",
       "      <td>...</td>\n",
       "      <td>...</td>\n",
       "      <td>...</td>\n",
       "      <td>...</td>\n",
       "    </tr>\n",
       "    <tr>\n",
       "      <th>691401</th>\n",
       "      <td>32215</td>\n",
       "      <td>4</td>\n",
       "      <td>2</td>\n",
       "      <td>112</td>\n",
       "      <td>152</td>\n",
       "      <td>28</td>\n",
       "      <td>28</td>\n",
       "      <td>28.0</td>\n",
       "      <td>0.00000</td>\n",
       "      <td>76</td>\n",
       "      <td>...</td>\n",
       "      <td>20</td>\n",
       "      <td>0.0</td>\n",
       "      <td>0.0</td>\n",
       "      <td>0</td>\n",
       "      <td>0</td>\n",
       "      <td>0.0</td>\n",
       "      <td>0.0</td>\n",
       "      <td>0</td>\n",
       "      <td>0</td>\n",
       "      <td>0</td>\n",
       "    </tr>\n",
       "    <tr>\n",
       "      <th>691402</th>\n",
       "      <td>324</td>\n",
       "      <td>2</td>\n",
       "      <td>2</td>\n",
       "      <td>84</td>\n",
       "      <td>362</td>\n",
       "      <td>42</td>\n",
       "      <td>42</td>\n",
       "      <td>42.0</td>\n",
       "      <td>0.00000</td>\n",
       "      <td>181</td>\n",
       "      <td>...</td>\n",
       "      <td>20</td>\n",
       "      <td>0.0</td>\n",
       "      <td>0.0</td>\n",
       "      <td>0</td>\n",
       "      <td>0</td>\n",
       "      <td>0.0</td>\n",
       "      <td>0.0</td>\n",
       "      <td>0</td>\n",
       "      <td>0</td>\n",
       "      <td>0</td>\n",
       "    </tr>\n",
       "    <tr>\n",
       "      <th>691403</th>\n",
       "      <td>82</td>\n",
       "      <td>2</td>\n",
       "      <td>1</td>\n",
       "      <td>31</td>\n",
       "      <td>6</td>\n",
       "      <td>31</td>\n",
       "      <td>0</td>\n",
       "      <td>15.5</td>\n",
       "      <td>21.92031</td>\n",
       "      <td>6</td>\n",
       "      <td>...</td>\n",
       "      <td>32</td>\n",
       "      <td>0.0</td>\n",
       "      <td>0.0</td>\n",
       "      <td>0</td>\n",
       "      <td>0</td>\n",
       "      <td>0.0</td>\n",
       "      <td>0.0</td>\n",
       "      <td>0</td>\n",
       "      <td>0</td>\n",
       "      <td>0</td>\n",
       "    </tr>\n",
       "    <tr>\n",
       "      <th>691404</th>\n",
       "      <td>1048635</td>\n",
       "      <td>6</td>\n",
       "      <td>2</td>\n",
       "      <td>192</td>\n",
       "      <td>256</td>\n",
       "      <td>32</td>\n",
       "      <td>32</td>\n",
       "      <td>32.0</td>\n",
       "      <td>0.00000</td>\n",
       "      <td>128</td>\n",
       "      <td>...</td>\n",
       "      <td>20</td>\n",
       "      <td>0.0</td>\n",
       "      <td>0.0</td>\n",
       "      <td>0</td>\n",
       "      <td>0</td>\n",
       "      <td>0.0</td>\n",
       "      <td>0.0</td>\n",
       "      <td>0</td>\n",
       "      <td>0</td>\n",
       "      <td>0</td>\n",
       "    </tr>\n",
       "    <tr>\n",
       "      <th>691405</th>\n",
       "      <td>94939</td>\n",
       "      <td>4</td>\n",
       "      <td>2</td>\n",
       "      <td>188</td>\n",
       "      <td>226</td>\n",
       "      <td>47</td>\n",
       "      <td>47</td>\n",
       "      <td>47.0</td>\n",
       "      <td>0.00000</td>\n",
       "      <td>113</td>\n",
       "      <td>...</td>\n",
       "      <td>20</td>\n",
       "      <td>0.0</td>\n",
       "      <td>0.0</td>\n",
       "      <td>0</td>\n",
       "      <td>0</td>\n",
       "      <td>0.0</td>\n",
       "      <td>0.0</td>\n",
       "      <td>0</td>\n",
       "      <td>0</td>\n",
       "      <td>0</td>\n",
       "    </tr>\n",
       "  </tbody>\n",
       "</table>\n",
       "<p>2253385 rows × 68 columns</p>\n",
       "</div>"
      ],
      "text/plain": [
       "         Flow Duration   Total Fwd Packets   Total Backward Packets  \\\n",
       "0                    3                   2                        0   \n",
       "1                  109                   1                        1   \n",
       "2                   52                   1                        1   \n",
       "3                   34                   1                        1   \n",
       "4                    3                   2                        0   \n",
       "...                ...                 ...                      ...   \n",
       "691401           32215                   4                        2   \n",
       "691402             324                   2                        2   \n",
       "691403              82                   2                        1   \n",
       "691404         1048635                   6                        2   \n",
       "691405           94939                   4                        2   \n",
       "\n",
       "        Total Length of Fwd Packets   Total Length of Bwd Packets  \\\n",
       "0                                12                             0   \n",
       "1                                 6                             6   \n",
       "2                                 6                             6   \n",
       "3                                 6                             6   \n",
       "4                                12                             0   \n",
       "...                             ...                           ...   \n",
       "691401                          112                           152   \n",
       "691402                           84                           362   \n",
       "691403                           31                             6   \n",
       "691404                          192                           256   \n",
       "691405                          188                           226   \n",
       "\n",
       "         Fwd Packet Length Max   Fwd Packet Length Min  \\\n",
       "0                            6                       6   \n",
       "1                            6                       6   \n",
       "2                            6                       6   \n",
       "3                            6                       6   \n",
       "4                            6                       6   \n",
       "...                        ...                     ...   \n",
       "691401                      28                      28   \n",
       "691402                      42                      42   \n",
       "691403                      31                       0   \n",
       "691404                      32                      32   \n",
       "691405                      47                      47   \n",
       "\n",
       "         Fwd Packet Length Mean   Fwd Packet Length Std  \\\n",
       "0                           6.0                 0.00000   \n",
       "1                           6.0                 0.00000   \n",
       "2                           6.0                 0.00000   \n",
       "3                           6.0                 0.00000   \n",
       "4                           6.0                 0.00000   \n",
       "...                         ...                     ...   \n",
       "691401                     28.0                 0.00000   \n",
       "691402                     42.0                 0.00000   \n",
       "691403                     15.5                21.92031   \n",
       "691404                     32.0                 0.00000   \n",
       "691405                     47.0                 0.00000   \n",
       "\n",
       "        Bwd Packet Length Max  ...   min_seg_size_forward  Active Mean  \\\n",
       "0                           0  ...                     20          0.0   \n",
       "1                           6  ...                     20          0.0   \n",
       "2                           6  ...                     20          0.0   \n",
       "3                           6  ...                     20          0.0   \n",
       "4                           0  ...                     20          0.0   \n",
       "...                       ...  ...                    ...          ...   \n",
       "691401                     76  ...                     20          0.0   \n",
       "691402                    181  ...                     20          0.0   \n",
       "691403                      6  ...                     32          0.0   \n",
       "691404                    128  ...                     20          0.0   \n",
       "691405                    113  ...                     20          0.0   \n",
       "\n",
       "         Active Std   Active Max   Active Min  Idle Mean   Idle Std  \\\n",
       "0               0.0            0            0        0.0        0.0   \n",
       "1               0.0            0            0        0.0        0.0   \n",
       "2               0.0            0            0        0.0        0.0   \n",
       "3               0.0            0            0        0.0        0.0   \n",
       "4               0.0            0            0        0.0        0.0   \n",
       "...             ...          ...          ...        ...        ...   \n",
       "691401          0.0            0            0        0.0        0.0   \n",
       "691402          0.0            0            0        0.0        0.0   \n",
       "691403          0.0            0            0        0.0        0.0   \n",
       "691404          0.0            0            0        0.0        0.0   \n",
       "691405          0.0            0            0        0.0        0.0   \n",
       "\n",
       "         Idle Max   Idle Min   Label  \n",
       "0               0          0       0  \n",
       "1               0          0       0  \n",
       "2               0          0       0  \n",
       "3               0          0       0  \n",
       "4               0          0       0  \n",
       "...           ...        ...     ...  \n",
       "691401          0          0       0  \n",
       "691402          0          0       0  \n",
       "691403          0          0       0  \n",
       "691404          0          0       0  \n",
       "691405          0          0       0  \n",
       "\n",
       "[2253385 rows x 68 columns]"
      ]
     },
     "execution_count": 4,
     "metadata": {},
     "output_type": "execute_result"
    }
   ],
   "source": [
    "#Combining Dataset Except df2\n",
    "\n",
    "combined_df = pd.concat([df1, df3, df4, df5, df6, df7], axis=0) \n",
    "\n",
    "combined_df"
   ]
  },
  {
   "cell_type": "code",
   "execution_count": 9,
   "id": "1412f12c",
   "metadata": {},
   "outputs": [],
   "source": [
    "#Export combined dataset\n",
    "combined_df.to_csv(\"F:/Internship/Dataset/Cleaner Data/Combined/combined_attack_data.csv\", index =False)"
   ]
  },
  {
   "cell_type": "code",
   "execution_count": 5,
   "id": "a41ae71b",
   "metadata": {},
   "outputs": [],
   "source": [
    "from sklearn.feature_selection import mutual_info_classif"
   ]
  },
  {
   "cell_type": "code",
   "execution_count": 6,
   "id": "55ec4d5b",
   "metadata": {},
   "outputs": [],
   "source": [
    "#Calculating informaionn gain using sklearn\n",
    "information_gain = mutual_info_classif(combined_df.iloc[:, :-1],combined_df[' Label'])"
   ]
  },
  {
   "cell_type": "code",
   "execution_count": 18,
   "id": "78a3e8be",
   "metadata": {},
   "outputs": [
    {
     "data": {
      "text/plain": [
       "array([0.22165685, 0.12863324, 0.18041818, 0.26247416, 0.30912577,\n",
       "       0.25718274, 0.10186719, 0.21701778, 0.23547788, 0.29002908,\n",
       "       0.11607646, 0.31783628, 0.25322172, 0.18630504, 0.20230258,\n",
       "       0.20196893, 0.18307268, 0.23638951, 0.06766137, 0.24051047,\n",
       "       0.22768347, 0.20033194, 0.25226748, 0.08949449, 0.17136301,\n",
       "       0.15768232, 0.12919598, 0.18480255, 0.12128756, 0.01018003,\n",
       "       0.17727945, 0.21205097, 0.19876591, 0.21251771, 0.10337907,\n",
       "       0.27557553, 0.29159726, 0.29681532, 0.29696485, 0.02555644,\n",
       "       0.01032619, 0.00034213, 0.05269166, 0.11755791, 0.02834361,\n",
       "       0.        , 0.19066363, 0.33234923, 0.21689588, 0.31785788,\n",
       "       0.17726263, 0.12864846, 0.26233784, 0.18058379, 0.30872149,\n",
       "       0.299578  , 0.24626862, 0.06513925, 0.00108421, 0.16696624,\n",
       "       0.01614504, 0.16485112, 0.16623885, 0.14404307, 0.0247597 ,\n",
       "       0.15083416, 0.14471302])"
      ]
     },
     "execution_count": 18,
     "metadata": {},
     "output_type": "execute_result"
    }
   ],
   "source": [
    "information_gain"
   ]
  },
  {
   "cell_type": "code",
   "execution_count": 7,
   "id": "2a5df62f",
   "metadata": {},
   "outputs": [],
   "source": [
    "#Create a data set with all the columns and their information gain\n",
    "info_obtained = {'Attributes': combined_df.columns[:-1].tolist() ,'information_gain': information_gain}"
   ]
  },
  {
   "cell_type": "code",
   "execution_count": 8,
   "id": "7e702399",
   "metadata": {},
   "outputs": [],
   "source": [
    "info_df = pd.DataFrame(info_obtained)"
   ]
  },
  {
   "cell_type": "code",
   "execution_count": 9,
   "id": "653b56c7",
   "metadata": {},
   "outputs": [
    {
     "data": {
      "text/html": [
       "<div>\n",
       "<style scoped>\n",
       "    .dataframe tbody tr th:only-of-type {\n",
       "        vertical-align: middle;\n",
       "    }\n",
       "\n",
       "    .dataframe tbody tr th {\n",
       "        vertical-align: top;\n",
       "    }\n",
       "\n",
       "    .dataframe thead th {\n",
       "        text-align: right;\n",
       "    }\n",
       "</style>\n",
       "<table border=\"1\" class=\"dataframe\">\n",
       "  <thead>\n",
       "    <tr style=\"text-align: right;\">\n",
       "      <th></th>\n",
       "      <th>Attributes</th>\n",
       "      <th>information_gain</th>\n",
       "    </tr>\n",
       "  </thead>\n",
       "  <tbody>\n",
       "    <tr>\n",
       "      <th>0</th>\n",
       "      <td>Flow Duration</td>\n",
       "      <td>0.221657</td>\n",
       "    </tr>\n",
       "    <tr>\n",
       "      <th>1</th>\n",
       "      <td>Total Fwd Packets</td>\n",
       "      <td>0.128633</td>\n",
       "    </tr>\n",
       "    <tr>\n",
       "      <th>2</th>\n",
       "      <td>Total Backward Packets</td>\n",
       "      <td>0.180418</td>\n",
       "    </tr>\n",
       "    <tr>\n",
       "      <th>3</th>\n",
       "      <td>Total Length of Fwd Packets</td>\n",
       "      <td>0.262474</td>\n",
       "    </tr>\n",
       "    <tr>\n",
       "      <th>4</th>\n",
       "      <td>Total Length of Bwd Packets</td>\n",
       "      <td>0.309126</td>\n",
       "    </tr>\n",
       "    <tr>\n",
       "      <th>...</th>\n",
       "      <td>...</td>\n",
       "      <td>...</td>\n",
       "    </tr>\n",
       "    <tr>\n",
       "      <th>62</th>\n",
       "      <td>Active Min</td>\n",
       "      <td>0.166239</td>\n",
       "    </tr>\n",
       "    <tr>\n",
       "      <th>63</th>\n",
       "      <td>Idle Mean</td>\n",
       "      <td>0.144043</td>\n",
       "    </tr>\n",
       "    <tr>\n",
       "      <th>64</th>\n",
       "      <td>Idle Std</td>\n",
       "      <td>0.024760</td>\n",
       "    </tr>\n",
       "    <tr>\n",
       "      <th>65</th>\n",
       "      <td>Idle Max</td>\n",
       "      <td>0.150834</td>\n",
       "    </tr>\n",
       "    <tr>\n",
       "      <th>66</th>\n",
       "      <td>Idle Min</td>\n",
       "      <td>0.144713</td>\n",
       "    </tr>\n",
       "  </tbody>\n",
       "</table>\n",
       "<p>67 rows × 2 columns</p>\n",
       "</div>"
      ],
      "text/plain": [
       "                      Attributes  information_gain\n",
       "0                  Flow Duration          0.221657\n",
       "1              Total Fwd Packets          0.128633\n",
       "2         Total Backward Packets          0.180418\n",
       "3    Total Length of Fwd Packets          0.262474\n",
       "4    Total Length of Bwd Packets          0.309126\n",
       "..                           ...               ...\n",
       "62                    Active Min          0.166239\n",
       "63                     Idle Mean          0.144043\n",
       "64                      Idle Std          0.024760\n",
       "65                      Idle Max          0.150834\n",
       "66                      Idle Min          0.144713\n",
       "\n",
       "[67 rows x 2 columns]"
      ]
     },
     "execution_count": 9,
     "metadata": {},
     "output_type": "execute_result"
    }
   ],
   "source": [
    "info_df"
   ]
  },
  {
   "cell_type": "code",
   "execution_count": 21,
   "id": "146a1261",
   "metadata": {},
   "outputs": [],
   "source": [
    "#Extract data to csv file\n",
    "info_df.to_csv(\"F:/Internship/Dataset/Cleaner Data/Combined/info_gain-ratio.csv\", index =False)"
   ]
  },
  {
   "cell_type": "code",
   "execution_count": 12,
   "id": "0fa73708",
   "metadata": {},
   "outputs": [
    {
     "data": {
      "text/plain": [
       "1855669"
      ]
     },
     "execution_count": 12,
     "metadata": {},
     "output_type": "execute_result"
    }
   ],
   "source": [
    "#Size of subset containing 0 (benign)\n",
    "subset_0 = combined_df[combined_df[' Label'] == 0].shape[0]\n",
    "subset_0"
   ]
  },
  {
   "cell_type": "code",
   "execution_count": 13,
   "id": "ad6786e3",
   "metadata": {},
   "outputs": [
    {
     "data": {
      "text/plain": [
       "397716"
      ]
     },
     "execution_count": 13,
     "metadata": {},
     "output_type": "execute_result"
    }
   ],
   "source": [
    "#Size of subset containing 1 (Attack)\n",
    "subset_1 = combined_df[combined_df[' Label'] == 1].shape[0]\n",
    "subset_1"
   ]
  },
  {
   "cell_type": "code",
   "execution_count": 16,
   "id": "fa1bc8f6",
   "metadata": {},
   "outputs": [
    {
     "name": "stderr",
     "output_type": "stream",
     "text": [
      "C:\\Users\\RDRL\\AppData\\Local\\Temp\\ipykernel_16788\\3018460567.py:3: DeprecationWarning: Calling np.sum(generator) is deprecated, and in the future will give a different result. Use np.sum(np.fromiter(generator)) or the python sum builtin instead.\n",
      "  split_information = -np.sum((subset_size / parent_size) * np.log2(subset_size / parent_size) for subset_size in subset_sizes)\n"
     ]
    },
    {
     "data": {
      "text/plain": [
       "0.6723538143066957"
      ]
     },
     "execution_count": 16,
     "metadata": {},
     "output_type": "execute_result"
    }
   ],
   "source": [
    "#Stored size of subset in an array\n",
    "subset_sizes = np.array([1855669,397716])\n",
    "parent_size = np.sum(subset_sizes)\n",
    "\n",
    "#Calculating Split Information\n",
    "split_information = -np.sum((subset_size / parent_size) * np.log2(subset_size / parent_size) for subset_size in subset_sizes)\n",
    "\n",
    "split_information"
   ]
  },
  {
   "cell_type": "code",
   "execution_count": 19,
   "id": "8b075dba",
   "metadata": {},
   "outputs": [],
   "source": [
    "#Calculating gain ratio\n",
    "gain_ratio = information_gain / split_information"
   ]
  },
  {
   "cell_type": "code",
   "execution_count": 21,
   "id": "64c9836d",
   "metadata": {},
   "outputs": [
    {
     "data": {
      "text/plain": [
       "array([0.32967293, 0.19131778, 0.26833815, 0.390381  , 0.45976652,\n",
       "       0.38251101, 0.15150831, 0.32277319, 0.35022911, 0.43136378,\n",
       "       0.17264193, 0.47272177, 0.37661975, 0.27709375, 0.30088709,\n",
       "       0.30039084, 0.27228622, 0.35158499, 0.10063357, 0.35771415,\n",
       "       0.3386364 , 0.29795613, 0.37520049, 0.13310624, 0.25487029,\n",
       "       0.23452283, 0.19215476, 0.27485907, 0.18039246, 0.01514088,\n",
       "       0.26366988, 0.31538599, 0.29562696, 0.31608017, 0.15375695,\n",
       "       0.40986684, 0.43369614, 0.44145704, 0.44167943, 0.0380104 ,\n",
       "       0.01535827, 0.00050885, 0.07836894, 0.1748453 , 0.0421558 ,\n",
       "       0.        , 0.28357634, 0.49430705, 0.32259188, 0.47275389,\n",
       "       0.26364487, 0.19134042, 0.39017826, 0.26858446, 0.45916522,\n",
       "       0.445566  , 0.36627831, 0.09688239, 0.00161255, 0.24833093,\n",
       "       0.02401272, 0.24518507, 0.24724906, 0.21423701, 0.0368254 ,\n",
       "       0.22433748, 0.21523343])"
      ]
     },
     "execution_count": 21,
     "metadata": {},
     "output_type": "execute_result"
    }
   ],
   "source": [
    "gain_ratio"
   ]
  },
  {
   "cell_type": "code",
   "execution_count": 22,
   "id": "9fed2332",
   "metadata": {},
   "outputs": [],
   "source": [
    "info_df['gain_ratio'] = gain_ratio"
   ]
  },
  {
   "cell_type": "code",
   "execution_count": 23,
   "id": "e04a08ef",
   "metadata": {
    "scrolled": false
   },
   "outputs": [
    {
     "data": {
      "text/html": [
       "<div>\n",
       "<style scoped>\n",
       "    .dataframe tbody tr th:only-of-type {\n",
       "        vertical-align: middle;\n",
       "    }\n",
       "\n",
       "    .dataframe tbody tr th {\n",
       "        vertical-align: top;\n",
       "    }\n",
       "\n",
       "    .dataframe thead th {\n",
       "        text-align: right;\n",
       "    }\n",
       "</style>\n",
       "<table border=\"1\" class=\"dataframe\">\n",
       "  <thead>\n",
       "    <tr style=\"text-align: right;\">\n",
       "      <th></th>\n",
       "      <th>Attributes</th>\n",
       "      <th>information_gain</th>\n",
       "      <th>gain_ratio</th>\n",
       "    </tr>\n",
       "  </thead>\n",
       "  <tbody>\n",
       "    <tr>\n",
       "      <th>0</th>\n",
       "      <td>Flow Duration</td>\n",
       "      <td>0.221657</td>\n",
       "      <td>0.329673</td>\n",
       "    </tr>\n",
       "    <tr>\n",
       "      <th>1</th>\n",
       "      <td>Total Fwd Packets</td>\n",
       "      <td>0.128633</td>\n",
       "      <td>0.191318</td>\n",
       "    </tr>\n",
       "    <tr>\n",
       "      <th>2</th>\n",
       "      <td>Total Backward Packets</td>\n",
       "      <td>0.180418</td>\n",
       "      <td>0.268338</td>\n",
       "    </tr>\n",
       "    <tr>\n",
       "      <th>3</th>\n",
       "      <td>Total Length of Fwd Packets</td>\n",
       "      <td>0.262474</td>\n",
       "      <td>0.390381</td>\n",
       "    </tr>\n",
       "    <tr>\n",
       "      <th>4</th>\n",
       "      <td>Total Length of Bwd Packets</td>\n",
       "      <td>0.309126</td>\n",
       "      <td>0.459767</td>\n",
       "    </tr>\n",
       "    <tr>\n",
       "      <th>...</th>\n",
       "      <td>...</td>\n",
       "      <td>...</td>\n",
       "      <td>...</td>\n",
       "    </tr>\n",
       "    <tr>\n",
       "      <th>62</th>\n",
       "      <td>Active Min</td>\n",
       "      <td>0.166239</td>\n",
       "      <td>0.247249</td>\n",
       "    </tr>\n",
       "    <tr>\n",
       "      <th>63</th>\n",
       "      <td>Idle Mean</td>\n",
       "      <td>0.144043</td>\n",
       "      <td>0.214237</td>\n",
       "    </tr>\n",
       "    <tr>\n",
       "      <th>64</th>\n",
       "      <td>Idle Std</td>\n",
       "      <td>0.024760</td>\n",
       "      <td>0.036825</td>\n",
       "    </tr>\n",
       "    <tr>\n",
       "      <th>65</th>\n",
       "      <td>Idle Max</td>\n",
       "      <td>0.150834</td>\n",
       "      <td>0.224337</td>\n",
       "    </tr>\n",
       "    <tr>\n",
       "      <th>66</th>\n",
       "      <td>Idle Min</td>\n",
       "      <td>0.144713</td>\n",
       "      <td>0.215233</td>\n",
       "    </tr>\n",
       "  </tbody>\n",
       "</table>\n",
       "<p>67 rows × 3 columns</p>\n",
       "</div>"
      ],
      "text/plain": [
       "                      Attributes  information_gain  gain_ratio\n",
       "0                  Flow Duration          0.221657    0.329673\n",
       "1              Total Fwd Packets          0.128633    0.191318\n",
       "2         Total Backward Packets          0.180418    0.268338\n",
       "3    Total Length of Fwd Packets          0.262474    0.390381\n",
       "4    Total Length of Bwd Packets          0.309126    0.459767\n",
       "..                           ...               ...         ...\n",
       "62                    Active Min          0.166239    0.247249\n",
       "63                     Idle Mean          0.144043    0.214237\n",
       "64                      Idle Std          0.024760    0.036825\n",
       "65                      Idle Max          0.150834    0.224337\n",
       "66                      Idle Min          0.144713    0.215233\n",
       "\n",
       "[67 rows x 3 columns]"
      ]
     },
     "execution_count": 23,
     "metadata": {},
     "output_type": "execute_result"
    }
   ],
   "source": [
    "info_df"
   ]
  },
  {
   "cell_type": "code",
   "execution_count": 24,
   "id": "f344ba88",
   "metadata": {},
   "outputs": [],
   "source": [
    "#Extract data to csv file\n",
    "info_df.to_csv(\"F:/Internship/Dataset/Cleaner Data/Combined/info_gain-ratio.csv\", index =False)"
   ]
  },
  {
   "cell_type": "code",
   "execution_count": 25,
   "id": "785c0452",
   "metadata": {},
   "outputs": [],
   "source": []
  }
 ],
 "metadata": {
  "kernelspec": {
   "display_name": "Python 3 (ipykernel)",
   "language": "python",
   "name": "python3"
  },
  "language_info": {
   "codemirror_mode": {
    "name": "ipython",
    "version": 3
   },
   "file_extension": ".py",
   "mimetype": "text/x-python",
   "name": "python",
   "nbconvert_exporter": "python",
   "pygments_lexer": "ipython3",
   "version": "3.10.9"
  }
 },
 "nbformat": 4,
 "nbformat_minor": 5
}
